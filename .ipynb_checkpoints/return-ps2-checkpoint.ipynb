{
 "cells": [
  {
   "cell_type": "markdown",
   "metadata": {},
   "source": [
    "# CS 171 Problem Set 2\n",
    "# Due Monday, October 28, 2019 @ 11:59pm"
   ]
  },
  {
   "cell_type": "markdown",
   "metadata": {},
   "source": [
    "24/25"
   ]
  },
  {
   "cell_type": "markdown",
   "metadata": {},
   "source": [
    "## Read *all* cells carefully and answer all parts (both text and missing code)"
   ]
  },
  {
   "cell_type": "markdown",
   "metadata": {},
   "source": [
    "### Enter your information below:\n",
    "\n",
    "<div style=\"color: #000000;background-color: #EEEEFF\">\n",
    "    Your Name (submitter): Yaming Zhang<br>\n",
    "Your student ID (submitter):X674002\n",
    "    \n",
    "<hr>\n",
    "\n",
    "Collaborators, optional (they do *not* need to submit their own)\n",
    "\n",
    "Collaborator 1 name:Shiyi Zhang<br>\n",
    "Collaborator 1 student ID:X674358\n",
    "\n",
    "Collaborator 2 name:<br>\n",
    "Collaborator 2 student ID:\n",
    "\n",
    "(max of 2 collaborators)\n",
    "</div>\n"
   ]
  },
  {
   "cell_type": "markdown",
   "metadata": {},
   "source": [
    "## Overview\n",
    "\n",
    "In this problem set, we will revisit the same movie review data from last time.  We will first try to predict the numeric score of the review (regression) using ridge regression (problems 1 and 2).  Then, we will try to just predict whether it is a good review or bad review (problems 3 and 4).\n",
    "\n",
    "The code below imports all allowed libraries and loads the data.  The variables loaded are as follows\n",
    "- Training data:\n",
    "    - `trainX` the data matrix, as is standard.  Each feature is a little different from last time.  The ith feature corresponds to the ith most common word across all reviews.  It is still related to the number of times the word is used in the review.  However, this time instead of bucketing this number into a category, we use the real value. Except, that instead of the raw count, we record the number of standard deviations this raw count is away from the mean raw count.  Why?  Well, we will cover that in week 9 or 10.  However, this makes things work better.  So, if the value is 0, then this review uses this word the average number of times.  If the value is +1, this review uses this word one standard deviation higher than average.  If -1, it uses it one standard deviation less than average.\n",
    "    - `trainYreg` the regression prediciton values.  We don't predict the raw rating (from 0 to 10), but rather the difference of this raw rating and 5.  So if the value in this vector is +3, that means the rating was an 8.  If the value is -4, the actual rating was a 1.\n",
    "    - `trainYclass` the classification prediction values.  These are +1 for positive reviews and -1 for negative reviews, same as last time.\n",
    "- Testing data:\n",
    "    - `testX` same as `trainX` but for the testing set\n",
    "    - `testYreg` same as `trainYreg` but for the training set\n",
    "    - `testYclass` same as `trainYclass` but for the training set"
   ]
  },
  {
   "cell_type": "code",
   "execution_count": 1,
   "metadata": {},
   "outputs": [],
   "source": [
    "import numpy as np\n",
    "import matplotlib.pyplot as plt\n",
    "from IPython.display import display, clear_output\n",
    "\n",
    "\n",
    "# load the data\n",
    "def loadsparsedata(fn):\n",
    "    \n",
    "    fp = open(fn,\"r\")\n",
    "    lines = fp.readlines()\n",
    "    maxf = 0;\n",
    "    for line in lines:\n",
    "        for i in line.split()[1::2]:\n",
    "            maxf = max(maxf,int(i))\n",
    "    \n",
    "    X = np.zeros((len(lines),maxf))\n",
    "    Y = np.zeros((len(lines)))\n",
    "    \n",
    "    for i, line in enumerate(lines):\n",
    "        values = line.split()\n",
    "        Y[i] = int(values[0])\n",
    "        for j,v in zip(values[1::2],values[2::2]):\n",
    "            X[i,int(j)-1] = int(v)\n",
    "    \n",
    "    X = (X-X.mean(axis=0))/X.std(axis=0)\n",
    "    return X,Y\n",
    "\n",
    "def loadplusones(fn):\n",
    "    (X,Y) = loadsparsedata(fn)\n",
    "    X = np.column_stack((np.ones(X.shape[0]),X))\n",
    "    return X,Y\n",
    "\n",
    "(trainX,trainYreg) = loadplusones('sptrainreal.txt')\n",
    "(testX,testYreg) = loadplusones('sptestreal.txt')\n",
    "trainYreg = trainYreg - 5\n",
    "testYreg = testYreg - 5\n",
    "trainYclass = np.sign(trainYreg)\n",
    "testYclass = np.sign(testYreg)"
   ]
  },
  {
   "cell_type": "markdown",
   "metadata": {},
   "source": [
    "<div style=\"color: #000000;background-color: #FFEEFF\">\n",
    "    <font size=+2>Part I: Ridge Regression</font>\n",
    "</div>"
   ]
  },
  {
   "cell_type": "markdown",
   "metadata": {},
   "source": [
    "<div style=\"color: #000000;background-color: #FFFFEE\">\n",
    "    <font size=+2>Question 1:</font> <font size=+1>(3/3 points)</font>\n",
    "    \n",
    "Complete the training and testing functions below for ridge regression.\n",
    "    \n",
    "Do **not** penalize the initial weight (corresponding to the intercept term).\n",
    "\n",
    "</div>"
   ]
  },
  {
   "cell_type": "code",
   "execution_count": 1,
   "metadata": {},
   "outputs": [],
   "source": [
    "def learnridge(X,Y,lam):\n",
    "    # X is the data matrix of shape (m,n)\n",
    "    # Y is are the target values of shape (m,)\n",
    "    # lam is the value of lambda (careful, lambda is a reserved keyword in python)\n",
    "    # function should return w of shape (n,)\n",
    "    \n",
    "    # YOUR CODE HERE\n",
    "    penalty=np.eye(X.shape[1])\n",
    "    penalty[0][0]=0\n",
    "    w = np.linalg.inv(X.T@X+lam*penalty)@X.T@Y\n",
    "    return w\n",
    "    \n",
    "def predictridge(X,w):\n",
    "    # X is the (testing) data of shape (m,n)\n",
    "    # w are the weights learned in ridge regression\n",
    "    # function should return Y, the predicted values of shape (m,)\n",
    "    \n",
    "    # YOUR CODE HERE\n",
    "    Y=X@w\n",
    "    return Y\n",
    "    \n",
    "def testridge(X,Y,w):\n",
    "    # X and Y are the testing data\n",
    "    # w are the weights from ridge regression\n",
    "    # returns the mean squared error\n",
    "    Ydelta = Y - predictridge(X,w)\n",
    "    return (Ydelta*Ydelta).mean()"
   ]
  },
  {
   "cell_type": "code",
   "execution_count": 2,
   "metadata": {},
   "outputs": [
    {
     "name": "stdout",
     "output_type": "stream",
     "text": [
      "[ 0.23506088  0.69521311 -0.2100044 ]\n",
      "[0.9954739  2.51629994 3.48671736 3.00150865]\n",
      "0.37511621954385144\n"
     ]
    }
   ],
   "source": [
    "import numpy as np\n",
    "X = np.array([[1, 2, 3], [1, 6, 9], [1, 8, 11], [1, 7, 10]])\n",
    "Y = np.array([1,2,3,4])\n",
    "w = learnridge(X, Y, 0.01)\n",
    "print(w)\n",
    "w = np.array([ 0.23506088,  0.69521311, -0.2100044 ])\n",
    "print(predictridge(X, w))\n",
    "print(testridge(X, Y, w))"
   ]
  },
  {
   "cell_type": "markdown",
   "metadata": {},
   "source": [
    "<div style=\"color: #000000;background-color: #FFFFEE\">\n",
    "    <font size=+2>Question 2:</font> <font size=+1>(4.5/5 points)</font>\n",
    "\n",
    "+ \\-0.5 pt: should be elif(i == 1)    \n",
    "    \n",
    "Use 3-fold cross validation to select the value of lambda for ridge regression, using `trainX` and `trainYreg`.  Plot the average across the three folds of the average squared error on the validation set as a function of lambda.  Use `plt.semilogx` for your plot (i.e., the horizontal axis for lambda should be on a log scale).  Use 10 values of lambda, arrange logarithmically evenly between $10^2$ and $10^5$.  See `np.logspace`.  If the number of data points does not divide by 3 evenly, just divide as evenly as possible.  `np.array_split` might help, but there are other ways.\n",
    "    \n",
    "Save the chosen value for lambda in `ridgelam`\n",
    "</div>"
   ]
  },
  {
   "cell_type": "code",
   "execution_count": 3,
   "metadata": {},
   "outputs": [
    {
     "data": {
      "text/plain": [
       "[<matplotlib.lines.Line2D at 0x7f0393cf3b70>]"
      ]
     },
     "execution_count": 3,
     "metadata": {},
     "output_type": "execute_result"
    },
    {
     "data": {
      "image/png": "[encoded data removed]",
      "text/plain": [
       "<Figure size 432x288 with 1 Axes>"
      ]
     },
     "metadata": {
      "needs_background": "light"
     },
     "output_type": "display_data"
    }
   ],
   "source": [
    "# YOUR CODE HERE\n",
    "lam=np.logspace(2,5,10)\n",
    "minerr=np.zeros((3,10))\n",
    "for i in range (3):\n",
    "    Xv=np.array_split(trainX,3)[i]\n",
    "    Yv=np.array_split(trainYreg,3)[i]\n",
    "    if(i==0):\n",
    "        Xt=np.append(np.array_split(trainX,3)[1],np.array_split(trainX,3)[2],axis=0)\n",
    "        Yt=np.append(np.array_split(trainYreg,3)[1],np.array_split(trainYreg,3)[2],axis=0)\n",
    "    if(i==1):\n",
    "        Xt=np.append(np.array_split(trainX,3)[0],np.array_split(trainX,3)[2],axis=0)\n",
    "        Yt=np.append(np.array_split(trainYreg,3)[0],np.array_split(trainYreg,3)[2],axis=0)\n",
    "    else:\n",
    "        Xt=np.append(np.array_split(trainX,3)[0],np.array_split(trainX,3)[1],axis=0)\n",
    "        Yt=np.append(np.array_split(trainYreg,3)[0],np.array_split(trainYreg,3)[1],axis=0)\n",
    "    for j in range (10):\n",
    "        minerr[i][j]=testridge(Xv,Yv,learnridge(Xt,Yt,lam[j]))\n",
    "ploterr=np.zeros(10)\n",
    "minerror=float('inf')\n",
    "for j in range (10):\n",
    "    ploterr[j]=(minerr[0][j]+minerr[1][j]+minerr[2][j])/3\n",
    "    if(ploterr[j]<minerror):\n",
    "        minerror=ploterr[j]\n",
    "        ridgelam=lam[j]\n",
    "plt.semilogx(lam,ploterr)"
   ]
  },
  {
   "cell_type": "markdown",
   "metadata": {},
   "source": [
    "<div style=\"color: #000000;background-color: #FFEEFF\">\n",
    "    <font size=+2>Part II: Logistic Regression</font>\n",
    "</div>"
   ]
  },
  {
   "cell_type": "markdown",
   "metadata": {},
   "source": [
    "The loss function for logistic regression, $f(x) = \\sigma(x^\\top w)$, is\n",
    "\\begin{align*}\n",
    "l(y,\\hat{y}) &= -\\ln \\sigma(y\\hat{y}) \\\\\n",
    "\\text{and thus} \\\\\n",
    "L &= \\frac{1}{m}\\sum_{i=1}^m -\\ln \\sigma(y_i f(x_i))\n",
    "\\end{align*}\n",
    "In class, we derived that the resulting gradient was, therefore,\n",
    "\\begin{align*}\n",
    "\\nabla_w L &= \\frac{-1}{m}\\sum_{i=1}^m (1-p_i)y_ix_i \\\\\n",
    "\\text{where} \\\\\n",
    "p_i &= \\sigma(y_i w^\\top x_i)\n",
    "\\end{align*}\n",
    "And so the update rule for $w$ is\n",
    "\\begin{align*}\n",
    "w &\\leftarrow w + \\eta \\frac{1}{m}\\sum_{i=1}^m (1-p_i)y_ix_i \n",
    "\\end{align*}"
   ]
  },
  {
   "cell_type": "markdown",
   "metadata": {},
   "source": [
    "<div style=\"color: #000000;background-color: #FFFFEE\">\n",
    "    <font size=+2>Question 3:</font> <font size=+1>(3/3 points)</font>\n",
    "\n",
    "Modify the total loss function, $L$, to include a regularization term with strength $\\lambda/m$ that penalizes the sum of the squares of the weights.\n",
    "\n",
    "***Write the new loss function.  Derive the gradient descent rule for this new loss function.***"
   ]
  },
  {
   "cell_type": "markdown",
   "metadata": {},
   "source": [
    "The new loss function is:\n",
    "\\begin{align*}\n",
    "L &= \\frac{1}{m}\\sum_{i=1}^m -\\ln \\sigma(y_i f(x_i))+\\frac{\\lambda}{m}\\sum_{j=1}^n \\omega^{2}_{j}\n",
    "\\end{align*}\n",
    "The resulting gradient is:\n",
    "\\begin{align*}\n",
    "\\nabla_w L &= \\frac{2\\lambda}{m}\\omega-\\frac{1}{m}\\sum_{i=1}^m (1-p_i)y_ix_i \\\\\n",
    "\\text{where} \\\\\n",
    "p_i &= \\sigma(y_i w^\\top x_i)\n",
    "\\end{align*}\n",
    "The update rule is:\n",
    "\\begin{align*}\n",
    "w &\\leftarrow w - \\eta(\\frac{2\\lambda}{m}\\omega-\\frac{1}{m}\\sum_{i=1}^m (1-p_i)y_ix_i) \\\\\n",
    "\\end{align*}"
   ]
  },
  {
   "cell_type": "markdown",
   "metadata": {},
   "source": [
    "<div style=\"color: #000000;background-color: #FFFFEE\">\n",
    "    <font size=+2>Question 4:</font> <font size=+1>(6.5/7 points)</font>\n",
    "\n",
    "+ \\-0.5 pt: wrong intercept compponent    \n",
    "    \n",
    "Complete the training and testing functions below for logistic regression.  We will use a constant step size of 0.2.  Picking a good step size is tricky, but this one should work well for this assignment.  Start $w$ at 0.  Use **batch** (or standard) gradient descent.  Stochastic gradient descent is harder to tell whether it is converging.  Stop when the squared magnitude of the gradient vector is less that $10^{-5}$.  Do not penalize the initial weight, corresponding to the intercept term.\n",
    "    \n",
    "A few hints:\n",
    "- This function will need to be written without loops (except for the loop over iterations of gradient descent) to be fast enough for the next question.\n",
    "- You can use `print` to output debugging information (or even use pyplot to plot things!).  The line `clear_output(wait=True)` will clear the output, in case you don't want the cell's output to extend too far during debugging.  (please remove debugging output when submitting)\n",
    "- To check to see if it is working, you should look that the gradient is getting smaller, but (more importantly) that the objective function (the loss) is getting smaller.\n",
    "\n",
    "</div>"
   ]
  },
  {
   "cell_type": "code",
   "execution_count": 5,
   "metadata": {},
   "outputs": [],
   "source": [
    "def learnlogreg(X,Y,lam):\n",
    "    # X is the data matrix of shape (m,n)\n",
    "    # Y is are the target labels (+1,-1) of shape (m,)\n",
    "    # lam is the value of lambda (careful, lambda is a reserved keyword in python)\n",
    "    # function should return w of shape (n,)\n",
    "    \n",
    "    # YOUR CODE HERE\n",
    "    w=np.zeros(X.shape[1])\n",
    "    def sigmoid(x):\n",
    "        sig = 1 / (1 + np.exp(-x))\n",
    "        return sig\n",
    "    \n",
    "    def grad(X,Y,w):\n",
    "        grad=(2*lam/X.shape[0])*w+(1/X.shape[0])*(sigmoid(X@w.T*Y)-1)*Y.T@X\n",
    "        return grad\n",
    "    \n",
    "    while grad(X,Y,w).dot(grad(X,Y,w).T)>1e-1:\n",
    "        w=w-0.2*grad(X,Y,w)\n",
    "    return w\n",
    "                \n",
    "def predictlogreg(X,w):\n",
    "    # X is the (testing) data of shape (m,n)\n",
    "    # w are the weights learned in ridge regression\n",
    "    # function should return Y, the predicted values of shape (m,) (all values either +1 or -1)\n",
    "    \n",
    "    # YOUR CODE HERE\n",
    "    predYbool=(X@w)>=0\n",
    "    predY=np.ones(predYbool.shape)\n",
    "    predY[predYbool==False]=-1\n",
    "    return predY\n",
    "    \n",
    "def testlogreg(X,Y,w):\n",
    "    # X and Y are the testing data\n",
    "    # w are the weights from ridge regression\n",
    "    # returns the mean squared error\n",
    "    Ypred = np.sign(predictlogreg(X,w)) ## should be +1/-1, but incase they are not\n",
    "    return (Ypred!=np.sign(Y)).mean()"
   ]
  },
  {
   "cell_type": "code",
   "execution_count": 6,
   "metadata": {},
   "outputs": [
    {
     "name": "stdout",
     "output_type": "stream",
     "text": [
      "[ 4.42105409 -2.9482296   1.52443703]\n",
      "[ 1. -1. -1. -1.]\n",
      "0.75\n"
     ]
    }
   ],
   "source": [
    "import numpy as np\n",
    "X = np.array([[1, 2, 3], [1, 6, 9], [1, 8, 11], [1, 7, 10]])\n",
    "Y = np.array([1,1,-1,-1])\n",
    "w = learnlogreg(X, Y, 0.01)\n",
    "print(w)\n",
    "w = np.array([26.93418729, -2.86016131, -0.88548386])\n",
    "X = np.array([[1, 2, 4], [1, 10, 9], [1, 7, 11], [1, 7, 12]])\n",
    "print(predictlogreg(X, w))\n",
    "Y = np.array([1,1,1,1])\n",
    "print(testlogreg(X, Y, w))"
   ]
  },
  {
   "cell_type": "markdown",
   "metadata": {},
   "source": [
    "<div style=\"color: #000000;background-color: #FFFFEE\">\n",
    "    <font size=+2>Question 5:</font> <font size=+1>(4/4 points)</font>\n",
    "\n",
    "Use 3-fold cross validation to select the value of lambda for logistic regression, using `trainX` and `trainYclass`.  Plot the average across the three folds of the average squared error on the validation set as a function of lambda.  Use `plt.semilogx` for your plot (i.e., the horizontal axis for lambda should be on a log scale).  Use 10 values of lambda, arrange logarithmically evenly between $10^0$ and $10^4$.  See `np.logspace`. \n",
    "    \n",
    "Save the chosen value for lambda in `logreglam`\n",
    "    \n",
    "This part takes about 12 minutes, in my solutions.  This is a long time to wait for a debug cycle.  To debug your code, use fewer lambda values until you are sure your code is correct.  Better still, test learnlogreg separately until you are sure it is working.\n",
    "</div>"
   ]
  },
  {
   "cell_type": "code",
   "execution_count": 5,
   "metadata": {},
   "outputs": [
    {
     "data": {
      "text/plain": [
       "[<matplotlib.lines.Line2D at 0x7f0393c99128>]"
      ]
     },
     "execution_count": 5,
     "metadata": {},
     "output_type": "execute_result"
    },
    {
     "data": {
      "image/png": "[encoded data removed]",
      "text/plain": [
       "<Figure size 432x288 with 1 Axes>"
      ]
     },
     "metadata": {
      "needs_background": "light"
     },
     "output_type": "display_data"
    }
   ],
   "source": [
    "# YOUR CODE HERE\n",
    "lam=np.logspace(0,4,10)\n",
    "minerr=np.zeros((3,10))\n",
    "for i in range (3):\n",
    "    Xv=np.array_split(trainX,3)[i]\n",
    "    Yv=np.array_split(trainYclass,3)[i]\n",
    "    if(i==0):\n",
    "        Xt=np.append(np.array_split(trainX,3)[1],np.array_split(trainX,3)[2],axis=0)\n",
    "        Yt=np.append(np.array_split(trainYclass,3)[1],np.array_split(trainYclass,3)[2],axis=0)\n",
    "    if(i==1):\n",
    "        Xt=np.append(np.array_split(trainX,3)[0],np.array_split(trainX,3)[2],axis=0)\n",
    "        Yt=np.append(np.array_split(trainYclass,3)[0],np.array_split(trainYclass,3)[2],axis=0)\n",
    "    else:\n",
    "        Xt=np.append(np.array_split(trainX,3)[0],np.array_split(trainX,3)[1],axis=0)\n",
    "        Yt=np.append(np.array_split(trainYclass,3)[0],np.array_split(trainYclass,3)[1],axis=0)\n",
    "    for j in range (10):\n",
    "        minerr[i][j]=testlogreg(Xv,Yv,learnlogreg(Xt,Yt,lam[j]))\n",
    "ploterr=np.zeros(10)\n",
    "minerror=float('inf')\n",
    "for j in range (10):\n",
    "    ploterr[j]=(minerr[0][j]+minerr[1][j]+minerr[2][j])/3\n",
    "    if(ploterr[j]<minerror):\n",
    "        minerror=ploterr[j]\n",
    "        logreglam=lam[j]\n",
    "plt.semilogx(lam,ploterr)"
   ]
  },
  {
   "cell_type": "markdown",
   "metadata": {},
   "source": [
    "<div style=\"color: #000000;background-color: #FFEEFF\">\n",
    "    <font size=+2>Part III: Testing</font>\n",
    "</div>"
   ]
  },
  {
   "cell_type": "markdown",
   "metadata": {},
   "source": [
    "<div style=\"color: #000000;background-color: #FFFFEE\">\n",
    "The code below retrains ridge regression and logistic regression using the fond values of lambda, above.  It then reports the average error for each on the **testing** data.\n",
    "    \n",
    "Perhaps more interestingly, it also reports the error rate if the ridge regression method is used to predict whether the review is positive.\n",
    "</div>"
   ]
  },
  {
   "cell_type": "code",
   "execution_count": 6,
   "metadata": {},
   "outputs": [
    {
     "name": "stdout",
     "output_type": "stream",
     "text": [
      "mean squared error for ridge rgression = 6.294322\n",
      "error rate for logistic regression = 0.135880\n",
      "error rate for ridge regression = 0.167440\n"
     ]
    }
   ],
   "source": [
    "wridge = learnridge(trainX,trainYreg,ridgelam)\n",
    "wlogreg = learnlogreg(trainX,trainYclass,logreglam)\n",
    "\n",
    "ridgemse = testridge(testX,testYreg,wridge)\n",
    "logregerrrate = testlogreg(testX,testYclass,wlogreg)\n",
    "ridgeerrrate = testlogreg(testX,testYclass,wridge)\n",
    "\n",
    "print(\"mean squared error for ridge rgression = %f\" % ridgemse)\n",
    "print(\"error rate for logistic regression = %f\" % logregerrrate)\n",
    "print(\"error rate for ridge regression = %f\" % ridgeerrrate)"
   ]
  },
  {
   "cell_type": "markdown",
   "metadata": {},
   "source": [
    "<div style=\"color: #000000;background-color: #FFFFEE\">\n",
    "    <font size=+2>Question 6:</font> <font size=+1>(3/3 points)</font>\n",
    "Given the results above, would you use ridge regression or logistic regression for this problem?  **Explain why.**\n",
    "</div>"
   ]
  },
  {
   "cell_type": "markdown",
   "metadata": {},
   "source": [
    "### YOUR ANSWER HERE"
   ]
  },
  {
   "cell_type": "raw",
   "metadata": {},
   "source": [
    "I will use logistic regression, because the error rate of it is lower."
   ]
  }
 ],
 "metadata": {
  "kernelspec": {
   "display_name": "CS 171 Python",
   "language": "python",
   "name": "cs171-cpu-limitation"
  },
  "language_info": {
   "codemirror_mode": {
    "name": "ipython",
    "version": 3
   },
   "file_extension": ".py",
   "mimetype": "text/x-python",
   "name": "python",
   "nbconvert_exporter": "python",
   "pygments_lexer": "ipython3",
   "version": "3.6.6"
  }
 },
 "nbformat": 4,
 "nbformat_minor": 2
}
