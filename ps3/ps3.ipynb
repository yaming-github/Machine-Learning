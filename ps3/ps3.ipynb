{
 "cells": [
  {
   "cell_type": "markdown",
   "metadata": {},
   "source": [
    "\n",
    "# Problem Set 3\n",
    "# Due Wednesday, November 13, 2019\n",
    "\n",
    "<div style=\"color: #000000;background-color: #FFEEFF\">\n",
    "In this problem set, you are to implement a two-layer (2 layers of weights, 1 hidden layer of units) neural network for binary classification.  All non-linearities are to be sigmoids.\n",
    "\n",
    "Details are given below.  *Please read the **entire** notebook carefully before proceeding.*\n",
    "\n",
    "You need to both fill in the necesary code, **and** answer the question at the bottom.</div>"
   ]
  },
  {
   "cell_type": "markdown",
   "metadata": {},
   "source": [
    "### Enter your information below:\n",
    "\n",
    "<div style=\"color: #000000;background-color: #EEEEFF\">\n",
    "    Your Name (submitter): Yaming Zhang<br>\n",
    "Your student ID (submitter):X674002\n",
    "    \n",
    "<hr>\n",
    "\n",
    "Collaborators, optional (they do *not* need to submit their own)\n",
    "\n",
    "Collaborator 1 name:Shiyi Zhang<br>\n",
    "Collaborator 1 student ID:X674358\n",
    "\n",
    "Collaborator 2 name:<br>\n",
    "Collaborator 2 student ID:\n",
    "\n",
    "(max of 2 collaborators)\n",
    "</div>"
   ]
  },
  {
   "cell_type": "code",
   "execution_count": 1,
   "metadata": {},
   "outputs": [],
   "source": [
    "# Below are the only imports that are necessary (or allowed)\n",
    "import numpy as np\n",
    "import h5py \n",
    "import matplotlib.pyplot as plt\n",
    "import time\n",
    "from IPython import display"
   ]
  },
  {
   "cell_type": "markdown",
   "metadata": {},
   "source": [
    "## Data\n",
    "\n",
    "<div style=\"color: #000000;background-color: #FFEEFF\">\n",
    "We will be using a USPS digit dataset (provided in the file uspsall73.mat).\n",
    "It has 16-by-16 grayscale images of each of the 10 different hand-written digits\n",
    "However, we will load only two of the digits to use as the two classes in\n",
    "binary classification\n",
    "</div>"
   ]
  },
  {
   "cell_type": "code",
   "execution_count": 2,
   "metadata": {},
   "outputs": [],
   "source": [
    "# function to load two of the 10 classes (c1 is for Y=+1 and c2 is for Y=0)\n",
    "# Note that for neural networks, we will be using Y={+1,0} instead of Y={+1,-1}\n",
    "def loaddigitdata(c1,c2,m):\n",
    "    f = h5py.File('uspsall73.mat','r') \n",
    "    data = f.get('data') \n",
    "    data = np.array(data).astype(float)\n",
    "    X = np.concatenate((data[c1,:,:],data[c2,:,:]))\n",
    "    Y = np.concatenate((np.zeros((data.shape[1])),np.ones((data.shape[1]))))\n",
    "    \n",
    "    rndstate = np.random.get_state() # going to set the \"random\" shuffle random seed\n",
    "    np.random.seed(132857) # setting seed so that dataset is consistent\n",
    "    p = np.random.permutation(X.shape[0])\n",
    "    X = X[p] # this and next line make copies, but that's okay given how small our dataset is\n",
    "    Y = Y[p]\n",
    "    np.random.set_state(rndstate) # reset seed\n",
    "    \n",
    "    trainX = X[0:m,:] # use the first m (after shuffling) for training\n",
    "    trainY = Y[0:m,np.newaxis]\n",
    "    validX = X[m:,:] # use the rest for validation\n",
    "    validY = Y[m:,np.newaxis]\n",
    "    return (trainX,trainY,validX,validY)\n",
    "\n",
    "# In case you care (not necessary for the assignment)\n",
    "def drawexample(x,ax=None): # takes an x *vector* and draws the image it encodes\n",
    "    if ax is None:\n",
    "        plt.imshow(np.reshape(x,(16,16)).T,cmap='gray')\n",
    "    else:\n",
    "        ax.imshow(np.reshape(x,(16,16)).T,cmap='gray')"
   ]
  },
  {
   "cell_type": "code",
   "execution_count": 3,
   "metadata": {},
   "outputs": [],
   "source": [
    "# load the data, to differentiate between 7s and 9s\n",
    "# we will use on 110 examples for training (50% of the data) and the other half for validation\n",
    "(trainX,trainY,validX,validY) = loaddigitdata(6,8,1100)\n",
    "means = trainX.mean(axis=0)\n",
    "stddevs = trainX.std(axis=0)\n",
    "stddevs[stddevs<1e-6] = 1.0\n",
    "trainX = (trainX-means)/stddevs\n",
    "validX = (validX-means)/stddevs\n"
   ]
  },
  {
   "cell_type": "raw",
   "metadata": {},
   "source": [
    "# Convert this cell to a code cell if you wish to see each of the examples, plotted\n",
    "# (completely not necessary for the problem set)\n",
    "f = plt.figure()\n",
    "f.set_size_inches(8,8)\n",
    "\n",
    "ax = f.add_subplot(111)\n",
    "plt.ion()\n",
    "f.canvas.draw()\n",
    "for exi in range(trainX.shape[0]):\n",
    "    display.clear_output(wait=True)\n",
    "    drawexample(trainX[exi,:])\n",
    "    digitid = (9 if trainY[exi]>0 else 7)\n",
    "    ax.set_title('y = '+str(int(trainY[exi]))+\" [\"+str(digitid)+\"]\")\n",
    "    display.display(f)\n",
    "    #time.sleep(0.1)"
   ]
  },
  {
   "cell_type": "markdown",
   "metadata": {},
   "source": [
    "## WRITE `nneval` and `trainneuralnet` [20 points]\n",
    "\n",
    "<div style=\"color: #000000;background-color: #FFFFEE\">\n",
    "This is the main portion of the assignment\n",
    "\n",
    "Note that the $Y$ values are +1 and 0 (not +1 and -1).  This is as in class and works better with a sigmoid output.\n",
    "\n",
    "You need to write the two functions below (plus any more you would like to add to help): `nneval` and `trainneuralnet`.  The first takes an array/matrix of X vectors and the weights from a neural network and returns a vector of predicted Y values (should be numbers between 0 and 1 -- the probability of class +1, for each of the examples).  The second takes a data set (Xs and Ys), the number of hidden units, and the lambda value (for regularization), and returns the weights.  W1 are the weights from the input to the hidden and W2 are the weights from the hidden to the output.\n",
    "\n",
    "A few notes:\n",
    "- **Starting Weights**: The code supplied randomly selects the weights near zero.  https://towardsdatascience.com/weight-initialization-in-neural-networks-a-journey-from-the-basics-to-kaiming-954fb9b47c79 has a reasonable explanation of why we are doing it this way.  But for the purposes of the assignment, you can just accept this is a good way to initialize neural network weights.\n",
    "- **Offset Terms**: Each layer should have an \"offset\" or \"intercept\" unit (to supply a 1 to the next layer), except the output layer.\n",
    "- **Batch Updates**: For a problem this small, use batch updates.  That is, the step is based on the sum of the gradients for each data point in the training set.\n",
    "- **Step Size**: http://ruder.io/optimizing-gradient-descent/index.html#gradientdescentoptimizationalgorithms describes a number of methods to adaptively control $\\eta$ for fast convergence.  You don't need to understand any of them; however, without them, convergence to good solutions on this problem can be quite slow.  Therefore, *use RMSprop*: the code below has a simple version of RMSprop that is sufficient for this assignment.  You need to supply the code that calculates `sumofgrad2` which should be the sum of the square of each element of the gradient (the squared length of the gradient).  (for debugging, feel free to use a constant $\\eta$). \n",
    "- **Stopping Criterion**: To determine when to stop, check the loss function every 10 iterations.  If it has not improved by at least $10^{-8}$ over those 10 iterations, stop.\n",
    "- **Regularization**: You should penalize (from the regularization) all of the weights, even those coming out of offset units.  While it makes sense sometimes not to penalize the ones for the constant $1$ units, you'll find this easier if you just penalize them all.\n",
    "\n",
    "Tips that might help:\n",
    "- Display the loss function's value every 10 iterations (or so).  It should generally be getting smaller.\n",
    "- The smaller $\\lambda$ is and the more units, the more difficult (long) the optimization will be.\n",
    "- Write a function to do forward propagation and one to do backward propagation.  Write a function to evaluate the loss function.  In general, break things up to keep things straight.\n",
    "- Processing the entire batch at once is more efficient in numpy.  Use numpy broadcasting to avoid loops where possible.\n",
    "</div>"
   ]
  },
  {
   "cell_type": "code",
   "execution_count": 4,
   "metadata": {},
   "outputs": [],
   "source": [
    "### FEEL FREE TO ADD HELPER FUNCTIONS\n",
    "def sigmoid(x):\n",
    "    return 1.0 / (1 + np.exp(-x))\n",
    "\n",
    "def nneval(X,W1,W2):\n",
    "    # W1 and W2 are as from trainneuralnet\n",
    "    # X is number of examples by number of features\n",
    "    # this should return a vector that has length of the number of examples\n",
    "    # the values in the return vector should be the predicted probabilities of class +1\n",
    "    m=X.shape[0]\n",
    "    X=np.hstack([np.ones((m,1)),X])\n",
    "    z1=np.dot(X,W1.T)\n",
    "    a1=sigmoid(z1)\n",
    "    a1=np.hstack([np.ones((m,1)),a1])\n",
    "    z2=np.dot(a1,W2.T)\n",
    "    a2=sigmoid(z2)\n",
    "    return a2\n",
    "\n",
    "def loss(Y,a2,W1,W2,lam):\n",
    "    return -np.mean(Y*np.log(a2)+(1-Y)*np.log(1-a2))+lam*(np.sum(np.power(W1,2))+np.sum(np.power(W2,2)))/Y.shape[0]\n",
    "     \n",
    "    \n",
    "def trainneuralnet(X,Y,nhid,lam):\n",
    "    (m,n) = X.shape\n",
    "    \n",
    "    W1 = (np.random.rand(nhid,n+1)*2-1)*np.sqrt(6.0/(n+nhid+1)) # weights to each hidden unit from the inputs (plus the added offset unit)\n",
    "    W2 = (np.random.rand(1,nhid+1)*2-1)*np.sqrt(6.0/(nhid+2)) # weights to the single output unit from the hidden units (plus the offset unit)\n",
    "    W1[:,0] = 0\n",
    "    W2[:,0] = -nhid/2.0\n",
    "    \n",
    "    Eg2=1\n",
    "    \n",
    "    X=np.hstack([np.ones((m,1)),X]) #m*n+1\n",
    "    z1=np.dot(X,W1.T) #m*nhid\n",
    "    a1=sigmoid(z1)\n",
    "    a1=np.hstack([np.ones((m,1)),a1])\n",
    "    z2=np.dot(a1,W2.T) #m*1\n",
    "    a2=sigmoid(z2)\n",
    "    \n",
    "    while (1):\n",
    "        \n",
    "        initloss=loss(Y,a2,W1,W2,lam)\n",
    "        \n",
    "        for i in range(10):\n",
    "            \n",
    "            z1=np.dot(X,W1.T) # m x n+1,n+1xnhid\n",
    "            a1=sigmoid(z1)\n",
    "            a1=np.hstack([np.ones((m,1)),a1])\n",
    "            z2=np.dot(a1,W2.T)\n",
    "            a2=sigmoid(z2)\n",
    "            \n",
    "            #calculate gradient here\n",
    "            dz2=a2-Y #m*1\n",
    "            dw2=np.dot(dz2.T, a1)/m #m*1,m*nhid+1\n",
    "\n",
    "            dz1=np.dot(dz2, W2[:,1:]) * (a1[:,1:] * (1 - a1[:,1:])) #m*nhid\n",
    "            dw1=np.dot(dz1.T, X)/m #nhid*n+1\n",
    "            \n",
    "            #??? sum of the squares of all of the elements of the gradient\n",
    "            sumofgrad2 = np.sum((dw2+2*lam/m*W2)**2)+np.sum((dw1+2*lam/m*W1)**2)\n",
    "            Eg2 = 0.9*Eg2 + 0.1*sumofgrad2\n",
    "            eta = 0.1/(np.sqrt((1e-10+Eg2)))\n",
    "\n",
    "            # use eta here to make update\n",
    "            W2=W2-eta*dw2-eta*2*lam*W2/m\n",
    "            W1=W1-eta*dw1-eta*2*lam*W1/m\n",
    "\n",
    "        # change in loss over 10 iterations is greater than 1e-8\n",
    "        if(abs(initloss-loss(Y,a2,W1,W2,lam)))<1e-8:\n",
    "            break\n",
    "\n",
    "    return (W1,W2)"
   ]
  },
  {
   "cell_type": "code",
   "execution_count": 5,
   "metadata": {},
   "outputs": [
    {
     "name": "stdout",
     "output_type": "stream",
     "text": [
      "[[-0.06802312  0.0932327   0.06093828 ...  0.0593054  -0.01240668\n",
      "  -0.09416842]\n",
      " [ 0.03337148 -0.08974073 -0.07791247 ... -0.05171468 -0.01656227\n",
      "   0.04203642]\n",
      " [-0.01643849 -0.0539341  -0.09605616 ... -0.00179793 -0.03509769\n",
      "  -0.00845645]\n",
      " [-0.01335822  0.09049404  0.05038795 ...  0.0759186   0.00296369\n",
      "  -0.09612793]\n",
      " [ 0.03622832 -0.09257719 -0.05052747 ... -0.0749601   0.01785608\n",
      "   0.09324925]]\n",
      "[[-0.48875081 -2.39642294  1.87177401  2.01960881 -2.53223873  2.14334129]]\n",
      "[[0.00985443]\n",
      " [0.00823019]\n",
      " [0.98172993]\n",
      " ...\n",
      " [0.00465544]\n",
      " [0.99442765]\n",
      " [0.99255986]]\n"
     ]
    }
   ],
   "source": [
    "# Use this cell (or others you add) to check your network\n",
    "# I would debug on simple examples you create yourself (trying to understand what happens with\n",
    "#  the full 256-dimensional data is hard)\n",
    "   \n",
    "(W1,W2) = trainneuralnet(trainX,trainY,5,1) #an example of training on the USPS data with 5 hidden units and lambda=1\n",
    "print(W1)\n",
    "print(W2)\n",
    "print(nneval(trainX,W1,W2))"
   ]
  },
  {
   "cell_type": "markdown",
   "metadata": {},
   "source": [
    "## Performance plot\n",
    "<div style=\"color: #000000;background-color: #FFFFEE\">\n",
    "The code below will plot your algorithm's error rate on this data set for various regularization strengths and numbers of hidden units.\n",
    "\n",
    "Make sure your code works for this plot.\n",
    "\n",
    "My code runs in about 5 minutes (to produce the full plot below)\n",
    "</div>"
   ]
  },
  {
   "cell_type": "code",
   "execution_count": 6,
   "metadata": {},
   "outputs": [],
   "source": [
    "# solutions from PS 2's logistic regression (modified to work with Y=0/1)\n",
    "# for comparison... see plot below\n",
    "def learnlogreg(X,Y,lam):    \n",
    "    (m,n) = X.shape\n",
    "    w = np.zeros((n+1))\n",
    "    \n",
    "    eta = 0.05\n",
    "    \n",
    "    Y11 = Y.copy()\n",
    "    Y11[Y11<0.5] = -1\n",
    "    XY = Y11*np.hstack((np.ones((m,1)),X))\n",
    "    neggrad = np.ones(n)\n",
    "    while(neggrad.dot(neggrad)>1e-5):\n",
    "        predy = sigmoid(XY@w)[:,np.newaxis]\n",
    "        neggrad = ((1.0-predy)*XY).mean(axis=0)\n",
    "        gradreg = (lam/m)*w*2.0\n",
    "        gradreg[0] = 0\n",
    "        neggrad = neggrad-gradreg\n",
    "        \n",
    "        llh = -np.sum(np.log(predy))/m + lam*(np.sum(w*w)-w[0]*w[0])/m\n",
    "        \n",
    "        w = w + eta*neggrad\n",
    "    \n",
    "    return w\n",
    "    \n",
    "def predictlogreg(X,w):\n",
    "    return sigmoid(np.hstack((np.ones((X.shape[0],1)),X))@w)"
   ]
  },
  {
   "cell_type": "code",
   "execution_count": 7,
   "metadata": {},
   "outputs": [
    {
     "data": {
      "image/png": "[encoded data removed]",
      "text/plain": [
       "<Figure size 576x576 with 1 Axes>"
      ]
     },
     "metadata": {
      "needs_background": "light"
     },
     "output_type": "display_data"
    }
   ],
   "source": [
    "def setupfig():\n",
    "    f = plt.figure()\n",
    "    f.set_size_inches(8,8)\n",
    "    ax = f.add_subplot(111)\n",
    "    plt.ion()\n",
    "    f.canvas.draw()\n",
    "    return (f,ax)\n",
    "\n",
    "def plotit(lams,nhiddens,erates,f,ax):\n",
    "    ax.clear()\n",
    "    for i in range(nhiddens.shape[0]):\n",
    "        ax.plot(lams,erates[:,i],'*-')\n",
    "    ax.set_yscale('log',subsy=[1,2,3,4,5,6,7,8,9])\n",
    "    ax.set_yticks([0.1,0.01])\n",
    "    ax.set_xscale('log')\n",
    "    f.canvas.draw()\n",
    "    ax.set_xlabel('lambda')\n",
    "    ax.set_ylabel('validation error rate')\n",
    "    ax.legend([(('# hidden units = '+str(x)) if x>0 else 'logistic regression') for x in nhiddens])\n",
    "    display.display(f)\n",
    "    display.clear_output(wait=True)\n",
    "    \n",
    "    \n",
    "nhiddens = np.array([0,4,20,100])\n",
    "lams = np.logspace(-3,2,10)\n",
    "erates = np.empty([lams.shape[0],nhiddens.shape[0]])\n",
    "erates[:,:] = np.nan\n",
    "\n",
    "(f,ax) = setupfig()\n",
    "\n",
    "    \n",
    "for ni, nhid in enumerate(nhiddens):\n",
    "    for li, lam in reversed(list(enumerate(lams))):\n",
    "        if ni==0:\n",
    "            w = learnlogreg(trainX,trainY,lam)\n",
    "            predy = predictlogreg(validX,w)[:,np.newaxis]\n",
    "        else:\n",
    "            (W1,W2) = trainneuralnet(trainX,trainY,nhid,lam)\n",
    "            predy = nneval(validX,W1,W2)\n",
    "        predy[predy<0.5] = 0.0\n",
    "        predy[predy>=0.5] = 1.0\n",
    "        validerr = (predy != validY).mean()\n",
    "        erates[li,ni] = validerr\n",
    "        \n",
    "        plotit(lams,nhiddens,erates,f,ax)"
   ]
  },
  {
   "cell_type": "markdown",
   "metadata": {},
   "source": [
    "## INTERPRET the Plot [5 points]\n",
    "<div style=\"color: #000000;background-color: #FFFFEE\">\n",
    "How do you interpret the plot above?  How and why does the plot differ by number of hidden units?  By $\\lambda$ value?  What parts of this plot agree with the material taught?  What parts do not?\n",
    "</div>"
   ]
  },
  {
   "cell_type": "markdown",
   "metadata": {},
   "source": [
    "### Your Answer Here"
   ]
  },
  {
   "cell_type": "markdown",
   "metadata": {},
   "source": [
    "With the increase of number of hidden units, the precision of neural network training is enhanced. For lambda, which means the pace of the penalty, if lambda is small, the speed to converge is slower, but the precision is also enhanced. However, if the lambda is too slow, the error rate will be a little higher, which is because the result is overfitting. For the plots of the neural network, they agree with the material taught, the other do not."
   ]
  }
 ],
 "metadata": {
  "kernelspec": {
   "display_name": "CS 171 Python",
   "language": "python",
   "name": "cs171-cpu-limitation"
  },
  "language_info": {
   "codemirror_mode": {
    "name": "ipython",
    "version": 3
   },
   "file_extension": ".py",
   "mimetype": "text/x-python",
   "name": "python",
   "nbconvert_exporter": "python",
   "pygments_lexer": "ipython3",
   "version": "3.6.6"
  }
 },
 "nbformat": 4,
 "nbformat_minor": 2
}
