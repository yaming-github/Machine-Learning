{
 "cells": [
  {
   "cell_type": "markdown",
   "metadata": {},
   "source": [
    "# CS 171 Problem Set 4\n",
    "# Due Wednesday, November 27, 2019 @ 11:59pm "
   ]
  },
  {
   "cell_type": "markdown",
   "metadata": {},
   "source": [
    "## Read *all* cells carefully and answer all parts (both text and code)"
   ]
  },
  {
   "cell_type": "markdown",
   "metadata": {},
   "source": [
    "### Enter your information below:\n",
    "\n",
    "<div style=\"color: #000000;background-color: #EEEEFF\">\n",
    "    Your Name (submitter): Yaming Zhang<br>\n",
    "Your student ID (submitter):X674002\n",
    "    \n",
    "<hr>\n",
    "\n",
    "Collaborators, optional (they do *not* need to submit their own)\n",
    "\n",
    "Collaborator 1 name:Shiyi Zhang<br>\n",
    "Collaborator 1 student ID:X674358\n",
    "\n",
    "Collaborator 2 name:Yaqiong Li<br>\n",
    "Collaborator 2 student ID:862002257\n",
    "\n",
    "(max of 2 collaborators)\n",
    "</div>"
   ]
  },
  {
   "cell_type": "markdown",
   "metadata": {},
   "source": [
    "<div style=\"color: #000000;background-color: #FFEEFF\">\n",
    "    <font size=+2>Part I: Association Rules</font>\n",
    "</div>"
   ]
  },
  {
   "cell_type": "markdown",
   "metadata": {},
   "source": [
    "<div style=\"color: #000000;background-color: #FFFFEE\">\n",
    "    <font size=+2>Question 1:</font> <font size=+1>(5 points)</font>\n",
    "\n",
    "If there are $n$ items (or features), there are $3^n-2^{n+1}+1$ different possible association rules.  Prove this.\n",
    "\n",
    "You need a _clear_ explanation.  Note, associate rules must have a non-empty set on the left-hand and right-hand sides.\n",
    "</div>"
   ]
  },
  {
   "cell_type": "markdown",
   "metadata": {},
   "source": [
    "## Your Answer Here"
   ]
  },
  {
   "cell_type": "markdown",
   "metadata": {},
   "source": [
    "$$ rules= \\sum_{k=1}^{n-1}\\left[{n \\choose k} * \\sum_{j=1}^{n-k}{n-k \\choose j}\\right] $$\n",
    "$$ ={n \\choose 1}* \\left[ {n-1 \\choose 1}+ {n-1 \\choose 2}+ \\cdots +{n-1 \\choose n-1} \\right] $$\n",
    "$$ +{n \\choose 2}* \\left[ {n-2 \\choose 1}+ {n-2 \\choose 2}+ \\cdots +{n-2 \\choose n-2} \\right] $$\n",
    "$$ \\cdots $$\n",
    "$$ +{n \\choose n-1}* {1 \\choose 1} $$\n",
    "$$ =\\sum_{k=1}^{n-1}{n \\choose k} \\left( 2^{n-k}-1 \\right) $$\n",
    "$$ =\\sum_{k=0}^{n-1}{n \\choose k} \\left( 2^{n-k}-1 \\right) - \\left( 2^{n}-1 \\right) $$ \n",
    "$$ =\\sum_{k=0}^{n-1}{n \\choose k} 2^{n-k} - \\sum_{k=0}^{n-1}{n \\choose k} - \\left( 2^{n}-1 \\right) $$\n",
    "$$ =\\left[ \\sum_{k=0}^{n}{n \\choose k} 2^{n-k}-1 \\right] - \\left[ \\sum_{k=0}^{n}{n \\choose k} - 1 \\right] - \\left( 2^{n}-1 \\right) $$\n",
    "$$ = \\left( 2+1 \\right)^{n} - 2^{n} - 2^{n} + 1 $$\n",
    "$$ = 3^{n} - 2^{n+1} + 1 $$"
   ]
  },
  {
   "cell_type": "markdown",
   "metadata": {},
   "source": [
    "<div style=\"color: #000000;background-color: #FFFFEE\">\n",
    "    <font size=+2>Question 2:</font> <font size=+1>(15 points)</font>\n",
    "    \n",
    "In this question, you will write code to do association rule learning, as described in class.\n",
    "\n",
    "The items will be represented by numbers (for ease and speed) with a separate\n",
    "list of the names for each item.  `loaddata` (below) loads in a dataset and returns these three things: a list of the names of each item, a list of the examples, and the total number of items.  Each example is a set of numbers representing.  For example, for the toy problem in lecture, loaddata returns\n",
    "\n",
    "`['Jurassic Park', 'Star Wars', 'Forrest Gump', 'Home Alone', 'Toy Story']`\n",
    "\n",
    "`[[1, 2, 4], [1, 4], [1, 3, 4], [0, 1], [0, 3], [1, 3, 4], [0, 2, 3], [3], [1, 3, 4], [1]]`\n",
    "\n",
    "`5`\n",
    "\n",
    "You should use `set`s and `frozenset`s (core python data structures) in your code.  You can read more about them at https://docs.python.org/3/library/stdtypes.html#set\n",
    "\n",
    "Write the functions `learnrules` and `writerules`, plus any additional helper functions you need.  Use the apriori algorithm to generate \"large item lists\" and the algorithm from class to find rules that meet the minimum support and confidence given.\n",
    "</div>"
   ]
  },
  {
   "cell_type": "code",
   "execution_count": 1,
   "metadata": {},
   "outputs": [],
   "source": [
    "from itertools import combinations, chain #do not import anything else \n",
    "# (you may or may not use combinations -- up to you)\n",
    "\n",
    "# prints out a set, nicely\n",
    "# names is an optional list of the names for each of the (integer) items\n",
    "def settostr(s,names=None):\n",
    "    if names is None:\n",
    "        elems = [str(e) for e in s]\n",
    "    else:\n",
    "        elems = [names[e] for e in s]\n",
    "    return \"{\" + (\", \".join(elems)) + \"}\""
   ]
  },
  {
   "cell_type": "code",
   "execution_count": 2,
   "metadata": {},
   "outputs": [],
   "source": [
    "# loads in data from filename, assuming the file format used for this assignment\n",
    "def loaddata(filename):\n",
    "    with open(filename) as f:\n",
    "        nitems = int(f.readline())\n",
    "        names = [f.readline().strip() for i in range(nitems)]\n",
    "        nrows = int(f.readline())\n",
    "        data = [[int(s) for s in f.readline().split()] for i in range(nrows)]\n",
    "        f.close()\n",
    "        return (names,data,nitems)"
   ]
  },
  {
   "cell_type": "code",
   "execution_count": 3,
   "metadata": {},
   "outputs": [],
   "source": [
    "def createC1(data):\n",
    "    c1=[]\n",
    "    for transaction in data:\n",
    "        for item in transaction:\n",
    "            if not [item] in c1:\n",
    "                c1.append([item])\n",
    "    c1.sort()\n",
    "    return map(frozenset, c1)"
   ]
  },
  {
   "cell_type": "code",
   "execution_count": 4,
   "metadata": {},
   "outputs": [],
   "source": [
    "def scanD(data,Ck,minSupport):\n",
    "    ssCnt = {}  \n",
    "    for can in Ck:\n",
    "        for tid in data:#order of the tranverse\n",
    "            if can.issubset(tid):\n",
    "                ssCnt[can]=ssCnt.get(can,0)+1\n",
    "    numItems = float(len(data))\n",
    "    retList  = []\n",
    "    supportData = {}\n",
    "    for key in ssCnt:\n",
    "        support = ssCnt[key]/numItems\n",
    "        if support >= minSupport:\n",
    "            retList.insert(0,key)\n",
    "        supportData[key] = support\n",
    "    return retList, supportData"
   ]
  },
  {
   "cell_type": "code",
   "execution_count": 5,
   "metadata": {},
   "outputs": [],
   "source": [
    "def aprioriGen(Lk,k): \n",
    "    retList=[]\n",
    "    lenLk=len(Lk)\n",
    "    for i in range(lenLk):\n",
    "        for j in range(i+1,lenLk):\n",
    "            L1=list(Lk[i])[:k-2]\n",
    "            L2=list(Lk[j])[:k-2]\n",
    "            L1.sort()\n",
    "            L2.sort()\n",
    "            if L1==L2:\n",
    "                retList.append(Lk[i]|Lk[j])\n",
    "    return retList"
   ]
  },
  {
   "cell_type": "code",
   "execution_count": 6,
   "metadata": {},
   "outputs": [],
   "source": [
    "def apriori(data,minSupport):\n",
    "    C1=createC1(data)\n",
    "    D=list(map(set,data))\n",
    "    L1,supportData=scanD(D,C1,minSupport)\n",
    "    L=[L1]\n",
    "    k=2\n",
    "    while len(L[k-2])>0: \n",
    "        Ck=aprioriGen(L[k-2],k) \n",
    "        Lk,supK=scanD(D,Ck,minSupport)\n",
    "        if not Lk:\n",
    "            break\n",
    "        supportData.update(supK)\n",
    "        L.append(Lk)\n",
    "        k+=1\n",
    "    return L,supportData"
   ]
  },
  {
   "cell_type": "code",
   "execution_count": 7,
   "metadata": {},
   "outputs": [],
   "source": [
    "def calConf(freqSet,H,supportData,brl,minconfidence):\n",
    "    prunedH=[]\n",
    "    for conseq in H:\n",
    "        conf=supportData[freqSet]/supportData[freqSet-conseq]\n",
    "        if conf>=minconfidence:\n",
    "            brl.append([freqSet-conseq,conseq,supportData[freqSet],conf])\n",
    "            prunedH.append(conseq)\n",
    "    return prunedH"
   ]
  },
  {
   "cell_type": "code",
   "execution_count": 8,
   "metadata": {},
   "outputs": [],
   "source": [
    "def rulesFromConseq(freqSet,H,supportData,brl,minconfidence):\n",
    "    m=len(H[0])\n",
    "    if len(freqSet)>(m+1): \n",
    "        Hmp1=aprioriGen(H,m+1)\n",
    "        Hmp1=calConf(freqSet,Hmp1,supportData,brl,minconfidence)\n",
    "        if len(Hmp1)>1: \n",
    "            rulesFromConseq(freqSet,Hmp1,supportData,brl,minconfidence)"
   ]
  },
  {
   "cell_type": "code",
   "execution_count": 9,
   "metadata": {},
   "outputs": [],
   "source": [
    "def generateRules(L,supportData,minconfidence):\n",
    "    bigRuleList=[]\n",
    "    for i in range(1,len(L)):\n",
    "        for freqSet in L[i]:\n",
    "            H1=[frozenset([item]) for item in freqSet]\n",
    "            calConf(freqSet,H1,supportData,bigRuleList,minconfidence)\n",
    "            if i>1:\n",
    "                rulesFromConseq(freqSet,H1,supportData,bigRuleList,minconfidence)\n",
    "    return bigRuleList"
   ]
  },
  {
   "cell_type": "code",
   "execution_count": 10,
   "metadata": {},
   "outputs": [],
   "source": [
    "def learnrules(numitems,data,minsupport,minconfidence):\n",
    "    ### ADD YOUR CODE HERE (of course, feel free to add other functions!)\n",
    "    ### Should return a list of rules.  \n",
    "    ### Each rule should be a pair of two sets (lhs and rhs)             \n",
    "    L,supportData=apriori(data,minsupport)\n",
    "    return generateRules(L,supportData,minconfidence)"
   ]
  },
  {
   "cell_type": "code",
   "execution_count": 11,
   "metadata": {},
   "outputs": [],
   "source": [
    "def writerules(rules,data,itemnames):\n",
    "    ### ADD YOUR CODE HERE\n",
    "    ## should print out each rule, *sorted by confidence*, (high to low) one per line\n",
    "    ## each line should list the support, then the confidence, then the rule\n",
    "    ## to line up the columns nicely, use\n",
    "    ##       \"{:7.4f}\".format(x)\n",
    "    ## to print the floating point number in the variable x\n",
    "    ## use settostr (above) to write out the itemsets\n",
    "    def take(elem):\n",
    "        return elem[3]\n",
    "    l=len(rules)\n",
    "    rules.sort(key=(lambda x:x[3]),reverse=True)\n",
    "    for i in range(l):\n",
    "        print('%7.4f'%rules[i][2],'%7.4f'%rules[i][3],'  ',settostr(rules[i][0],itemnames),'=>',settostr(rules[i][1],itemnames))"
   ]
  },
  {
   "cell_type": "code",
   "execution_count": 12,
   "metadata": {},
   "outputs": [],
   "source": [
    "# prints the rule set\n",
    "def printruleset(datasetfilename,minsupport,minconfidence):\n",
    "    (itemnames,data,numitems) = loaddata(datasetfilename)\n",
    "    rules = learnrules(numitems,data,minsupport,minconfidence)\n",
    "    writerules(rules,data,itemnames)"
   ]
  },
  {
   "cell_type": "code",
   "execution_count": 13,
   "metadata": {},
   "outputs": [
    {
     "name": "stdout",
     "output_type": "stream",
     "text": [
      " 0.5000  1.0000    {Toy Story} => {Star Wars}\n",
      " 0.3000  1.0000    {Home Alone, Toy Story} => {Star Wars}\n",
      " 0.3000  1.0000    {Star Wars, Home Alone} => {Toy Story}\n",
      " 0.5000  0.7143    {Star Wars} => {Toy Story}\n",
      " 0.3000  0.6000    {Toy Story} => {Home Alone}\n",
      " 0.3000  0.6000    {Star Wars, Toy Story} => {Home Alone}\n",
      " 0.3000  0.6000    {Toy Story} => {Star Wars, Home Alone}\n",
      " 0.3000  0.5000    {Home Alone} => {Star Wars}\n",
      " 0.3000  0.5000    {Home Alone} => {Toy Story}\n",
      " 0.3000  0.5000    {Home Alone} => {Star Wars, Toy Story}\n"
     ]
    },
    {
     "data": {
      "text/plain": [
       "' output should look like\\n 0.5000  1.0000    {Toy Story} => {Star Wars}\\n 0.3000  1.0000    {Star Wars, Home Alone} => {Toy Story}\\n 0.3000  1.0000    {Home Alone, Toy Story} => {Star Wars}\\n 0.5000  0.7143    {Star Wars} => {Toy Story}\\n 0.3000  0.6000    {Star Wars, Toy Story} => {Home Alone}\\n 0.3000  0.6000    {Toy Story} => {Home Alone}\\n 0.3000  0.6000    {Toy Story} => {Star Wars, Home Alone}\\n 0.3000  0.5000    {Home Alone} => {Toy Story}\\n 0.3000  0.5000    {Home Alone} => {Star Wars, Toy Story}\\n 0.3000  0.5000    {Home Alone} => {Star Wars}\\n'"
      ]
     },
     "execution_count": 13,
     "metadata": {},
     "output_type": "execute_result"
    }
   ],
   "source": [
    "## toy dataset example\n",
    "printruleset('toymovies.txt',0.3,0.5)\n",
    "''' output should look like\n",
    " 0.5000  1.0000    {Toy Story} => {Star Wars}\n",
    " 0.3000  1.0000    {Star Wars, Home Alone} => {Toy Story}\n",
    " 0.3000  1.0000    {Home Alone, Toy Story} => {Star Wars}\n",
    " 0.5000  0.7143    {Star Wars} => {Toy Story}\n",
    " 0.3000  0.6000    {Star Wars, Toy Story} => {Home Alone}\n",
    " 0.3000  0.6000    {Toy Story} => {Home Alone}\n",
    " 0.3000  0.6000    {Toy Story} => {Star Wars, Home Alone}\n",
    " 0.3000  0.5000    {Home Alone} => {Toy Story}\n",
    " 0.3000  0.5000    {Home Alone} => {Star Wars, Toy Story}\n",
    " 0.3000  0.5000    {Home Alone} => {Star Wars}\n",
    "'''"
   ]
  },
  {
   "cell_type": "code",
   "execution_count": 14,
   "metadata": {},
   "outputs": [
    {
     "name": "stdout",
     "output_type": "stream",
     "text": [
      " 0.0104  0.5862    {citrus fruit, root vegetables} => {other vegetables}\n",
      " 0.0123  0.5845    {root vegetables, tropical fruit} => {other vegetables}\n",
      " 0.0101  0.5824    {curd, yogurt} => {whole milk}\n",
      " 0.0115  0.5736    {other vegetables, butter} => {whole milk}\n",
      " 0.0120  0.5700    {root vegetables, tropical fruit} => {whole milk}\n",
      " 0.0145  0.5630    {root vegetables, yogurt} => {whole milk}\n",
      " 0.0123  0.5525    {domestic eggs, other vegetables} => {whole milk}\n",
      " 0.0109  0.5245    {yogurt, whipped/sour cream} => {whole milk}\n",
      " 0.0127  0.5230    {rolls/buns, root vegetables} => {whole milk}\n",
      " 0.0135  0.5175    {pip fruit, other vegetables} => {whole milk}\n",
      " 0.0151  0.5174    {tropical fruit, yogurt} => {whole milk}\n",
      " 0.0223  0.5129    {other vegetables, yogurt} => {whole milk}\n",
      " 0.0146  0.5070    {other vegetables, whipped/sour cream} => {whole milk}\n",
      " 0.0122  0.5021    {rolls/buns, root vegetables} => {other vegetables}\n",
      " 0.0129  0.5000    {root vegetables, yogurt} => {other vegetables}\n"
     ]
    }
   ],
   "source": [
    "# the full groceries answer (should take under a minute to run)\n",
    "printruleset('groceries.txt',0.01,0.5)"
   ]
  },
  {
   "cell_type": "code",
   "execution_count": 15,
   "metadata": {},
   "outputs": [
    {
     "name": "stdout",
     "output_type": "stream",
     "text": [
      " 0.0013  0.9231    {Other, Tartine} => {Coffee}\n",
      " 0.0010  0.9091    {Medialuna, Hot chocolate, Other} => {Coffee}\n",
      " 0.0015  0.8750    {Salad, Extra Salami or Feta} => {Coffee}\n",
      " 0.0014  0.8667    {Toast, Pastry} => {Coffee}\n",
      " 0.0013  0.8571    {Hearty & Seasonal, Sandwich} => {Coffee}\n",
      " 0.0010  0.8333    {Vegan mincepie, Cake} => {Coffee}\n",
      " 0.0016  0.8333    {Salad, Sandwich} => {Coffee}\n",
      " 0.0016  0.8333    {Other, Scone} => {Coffee}\n",
      " 0.0033  0.8158    {Extra Salami or Feta} => {Coffee}\n",
      " 0.0054  0.8095    {Keeping It Local} => {Coffee}\n",
      " 0.0016  0.7895    {Cookies, Scone} => {Coffee}\n",
      " 0.0018  0.7727    {Juice, Pastry} => {Coffee}\n",
      " 0.0010  0.7692    {Salad, Cake} => {Coffee}\n",
      " 0.0014  0.7647    {Other, Extra Salami or Feta} => {Coffee}\n",
      " 0.0028  0.7500    {Other, Toast} => {Coffee}\n",
      " 0.0021  0.7407    {Other, Cookies} => {Coffee}\n",
      " 0.0020  0.7308    {Juice, Spanish Brunch} => {Coffee}\n",
      " 0.0016  0.7143    {Cake, Toast} => {Coffee}\n",
      " 0.0010  0.7143    {Cake, Tea, Sandwich} => {Coffee}\n",
      " 0.0235  0.7044    {Toast} => {Coffee}\n"
     ]
    }
   ],
   "source": [
    "# a different groceries dataset, looking for rules with less support, but higher confidence (should take under a minute to run)\n",
    "printruleset('groceries2.txt',0.001,0.7)"
   ]
  },
  {
   "cell_type": "markdown",
   "metadata": {},
   "source": [
    "<div style=\"color: #000000;background-color: #FFEEFF\">\n",
    "    <font size=+2>Part II: Clustering</font>\n",
    "</div>"
   ]
  },
  {
   "cell_type": "markdown",
   "metadata": {},
   "source": [
    "<div style=\"color: #000000;background-color: #FFFFEE\">\n",
    "    <font size=+2>Question 3:</font> <font size=+1>(5 points)</font>\n",
    "\n",
    "The code below plots 6 points (in 2D feature space) and the associated dendrograms for\n",
    "three types of linkage definitions: single, average, and complete.\n",
    "\n",
    "However, for these six points, all three dendrograms are almost the same.  While the levels at which points are merged differ, the clusters generated are the same.\n",
    "\n",
    "Change the points below (`pts`) so that each of the three linkages produces a different heirarchical clustering.\n",
    "</div>"
   ]
  },
  {
   "cell_type": "code",
   "execution_count": 16,
   "metadata": {},
   "outputs": [],
   "source": [
    "pts = [[1,1],[2,4],[2,6],[3,6],[4,3],[5,7]] ## Change only this line (but keep 6 points)\n",
    "pnames = ['A','B','C','D','E','F']"
   ]
  },
  {
   "cell_type": "code",
   "execution_count": 17,
   "metadata": {},
   "outputs": [
    {
     "data": {
      "image/png": "[encoded data removed]",
      "text/plain": [
       "<Figure size 1152x288 with 4 Axes>"
      ]
     },
     "metadata": {
      "needs_background": "light"
     },
     "output_type": "display_data"
    }
   ],
   "source": [
    "%matplotlib inline\n",
    "from scipy.cluster import hierarchy\n",
    "from scipy.spatial import distance\n",
    "import matplotlib.pyplot as plt\n",
    "\n",
    "ctypes = ['single','average','complete']\n",
    "\n",
    "plt, axes = plt.subplots(1,len(ctypes)+1,figsize=(4+4*len(ctypes),4))\n",
    "\n",
    "axes[0].scatter([x[0] for x in pts],[x[1] for x in pts])\n",
    "for i,name in enumerate(pnames):\n",
    "    axes[0].annotate(name,(pts[i][0],pts[i][1]))\n",
    "axes[0].axis('equal')\n",
    "axes[0].set_title('points')\n",
    "    \n",
    "for i,ctype in enumerate(ctypes):\n",
    "    Z = hierarchy.linkage(distance.pdist(pts),ctype)\n",
    "    hh = hierarchy.dendrogram(Z,ax=axes[i+1],labels=pnames)\n",
    "    axes[i+1].set_title(ctype+ \" linkage\")"
   ]
  }
 ],
 "metadata": {
  "kernelspec": {
   "display_name": "CS 171 Python",
   "language": "python",
   "name": "cs171-cpu-limitation"
  },
  "language_info": {
   "codemirror_mode": {
    "name": "ipython",
    "version": 3
   },
   "file_extension": ".py",
   "mimetype": "text/x-python",
   "name": "python",
   "nbconvert_exporter": "python",
   "pygments_lexer": "ipython3",
   "version": "3.6.6"
  }
 },
 "nbformat": 4,
 "nbformat_minor": 2
}
